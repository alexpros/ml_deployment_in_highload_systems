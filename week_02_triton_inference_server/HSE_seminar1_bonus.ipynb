{
 "cells": [
  {
   "cell_type": "markdown",
   "id": "f88f5589",
   "metadata": {},
   "source": [
    "# Бонус к лекции 1 \n",
    "### Сборка конда-паков для python-backend'а тритона"
   ]
  },
  {
   "cell_type": "markdown",
   "id": "890ddd19",
   "metadata": {},
   "source": [
    "Чтобы установленные в конда-пак пакеты виделись тритон-сервером, нужно чтобы версия питона, поддерживаемая образом тритон-сервера, совпадала с версией вашего питона в конда-паке.\n",
    "Либо можно самостоятельно сконвертировать stub-файл модели при помощи cmake и положить к модели.\n",
    "\n",
    "Собираем новый конда-пак с правильной версией пайтона, и тут есть несколько нюансов про которые стоит знать."
   ]
  },
  {
   "cell_type": "code",
   "execution_count": 3,
   "id": "fdbf4db4",
   "metadata": {},
   "outputs": [
    {
     "name": "stdout",
     "output_type": "stream",
     "text": [
      "Retrieving notices: ...working... done\n",
      "Channels:\n",
      " - conda-forge\n",
      " - defaults\n",
      "Platform: linux-64\n",
      "Collecting package metadata (repodata.json): ...working... done\n",
      "Solving environment: ...working... done\n",
      "\n",
      "## Package Plan ##\n",
      "\n",
      "  environment location: /home/izhdanov/anaconda3/envs/demo_env\n",
      "\n",
      "  added / updated specs:\n",
      "    - python=3.10.14\n",
      "\n",
      "\n",
      "The following packages will be downloaded:\n",
      "\n",
      "    package                    |            build\n",
      "    ---------------------------|-----------------\n",
      "    openssl-3.3.1              |       h4bc722e_2         2.8 MB  conda-forge\n",
      "    ------------------------------------------------------------\n",
      "                                           Total:         2.8 MB\n",
      "\n",
      "The following NEW packages will be INSTALLED:\n",
      "\n",
      "  _libgcc_mutex      conda-forge/linux-64::_libgcc_mutex-0.1-conda_forge \n",
      "  _openmp_mutex      conda-forge/linux-64::_openmp_mutex-4.5-2_gnu \n",
      "  bzip2              conda-forge/linux-64::bzip2-1.0.8-h4bc722e_7 \n",
      "  ca-certificates    conda-forge/linux-64::ca-certificates-2024.7.4-hbcca054_0 \n",
      "  ld_impl_linux-64   conda-forge/linux-64::ld_impl_linux-64-2.40-hf3520f5_7 \n",
      "  libffi             conda-forge/linux-64::libffi-3.4.2-h7f98852_5 \n",
      "  libgcc-ng          conda-forge/linux-64::libgcc-ng-14.1.0-h77fa898_0 \n",
      "  libgomp            conda-forge/linux-64::libgomp-14.1.0-h77fa898_0 \n",
      "  libnsl             conda-forge/linux-64::libnsl-2.0.1-hd590300_0 \n",
      "  libsqlite          conda-forge/linux-64::libsqlite-3.46.0-hde9e2c9_0 \n",
      "  libuuid            conda-forge/linux-64::libuuid-2.38.1-h0b41bf4_0 \n",
      "  libxcrypt          conda-forge/linux-64::libxcrypt-4.4.36-hd590300_1 \n",
      "  libzlib            conda-forge/linux-64::libzlib-1.3.1-h4ab18f5_1 \n",
      "  ncurses            conda-forge/linux-64::ncurses-6.5-h59595ed_0 \n",
      "  openssl            conda-forge/linux-64::openssl-3.3.1-h4bc722e_2 \n",
      "  pip                conda-forge/noarch::pip-24.0-pyhd8ed1ab_0 \n",
      "  python             conda-forge/linux-64::python-3.10.14-hd12c33a_0_cpython \n",
      "  readline           conda-forge/linux-64::readline-8.2-h8228510_1 \n",
      "  setuptools         conda-forge/noarch::setuptools-70.3.0-pyhd8ed1ab_0 \n",
      "  tk                 conda-forge/linux-64::tk-8.6.13-noxft_h4845f30_101 \n",
      "  tzdata             conda-forge/noarch::tzdata-2024a-h0c530f3_0 \n",
      "  wheel              conda-forge/noarch::wheel-0.43.0-pyhd8ed1ab_1 \n",
      "  xz                 conda-forge/linux-64::xz-5.2.6-h166bdaf_0 \n",
      "\n",
      "\n",
      "\n",
      "Downloading and Extracting Packages: ...working... done\n",
      "Preparing transaction: ...working... done\n",
      "Verifying transaction: ...working... done\n",
      "Executing transaction: ...working... done\n",
      "#\n",
      "# To activate this environment, use\n",
      "#\n",
      "#     $ conda activate demo_env\n",
      "#\n",
      "# To deactivate an active environment, use\n",
      "#\n",
      "#     $ conda deactivate\n",
      "\n"
     ]
    },
    {
     "data": {
      "text/plain": [
       "0"
      ]
     },
     "execution_count": 3,
     "metadata": {},
     "output_type": "execute_result"
    }
   ],
   "source": [
    "# Создаём новую конда среду с питончиком\n",
    "import os\n",
    "os.system('conda create -n demo_env -c conda-forge python=3.10.14 -y')"
   ]
  },
  {
   "cell_type": "code",
   "execution_count": 4,
   "id": "a5f05148",
   "metadata": {},
   "outputs": [
    {
     "name": "stdout",
     "output_type": "stream",
     "text": [
      "Channels:\n",
      " - defaults\n",
      " - conda-forge\n",
      "Platform: linux-64\n",
      "Collecting package metadata (repodata.json): ...working... done\n",
      "Solving environment: ...working... done\n",
      "\n",
      "## Package Plan ##\n",
      "\n",
      "  environment location: /home/izhdanov/anaconda3/envs/demo_env\n",
      "\n",
      "  added / updated specs:\n",
      "    - libstdcxx-ng=12\n",
      "\n",
      "\n",
      "The following NEW packages will be INSTALLED:\n",
      "\n",
      "  libstdcxx-ng       conda-forge/linux-64::libstdcxx-ng-12.4.0-hc0a3c3a_0 \n",
      "\n",
      "The following packages will be DOWNGRADED:\n",
      "\n",
      "  libgcc-ng                               14.1.0-h77fa898_0 --> 12.4.0-h77fa898_0 \n",
      "  libgomp                                 14.1.0-h77fa898_0 --> 12.4.0-h77fa898_0 \n",
      "\n",
      "\n",
      "\n",
      "Downloading and Extracting Packages: ...working... done\n",
      "Preparing transaction: ...working... done\n",
      "Verifying transaction: ...working... done\n",
      "Executing transaction: ...working... done\n"
     ]
    },
    {
     "data": {
      "text/plain": [
       "0"
      ]
     },
     "execution_count": 4,
     "metadata": {},
     "output_type": "execute_result"
    }
   ],
   "source": [
    "# Ставим в конду системные либы поддержки с++\n",
    "os.system('conda install -n demo_env libstdcxx-ng=12 -y')"
   ]
  },
  {
   "cell_type": "code",
   "execution_count": 5,
   "id": "26e08d60",
   "metadata": {},
   "outputs": [
    {
     "name": "stdout",
     "output_type": "stream",
     "text": [
      "Looking in indexes: https://artifactory.s.o3.ru/artifactory/api/pypi/pypi-virtual/simple, https://pypi.org/simple\n",
      "Collecting pybind11\n",
      "  Using cached pybind11-2.13.1-py3-none-any.whl.metadata (9.5 kB)\n",
      "Using cached pybind11-2.13.1-py3-none-any.whl (238 kB)\n",
      "Installing collected packages: pybind11\n",
      "Successfully installed pybind11-2.13.1\n",
      "\n"
     ]
    },
    {
     "data": {
      "text/plain": [
       "0"
      ]
     },
     "execution_count": 5,
     "metadata": {},
     "output_type": "execute_result"
    }
   ],
   "source": [
    "# Обязательно добавляем пакет в pip для поддержки интерпритатора пайтона\n",
    "os.system('conda run -n demo_env pip install pybind11')"
   ]
  },
  {
   "cell_type": "markdown",
   "id": "4358b893",
   "metadata": {},
   "source": [
    "### Далее ваши пакеты в pip"
   ]
  },
  {
   "cell_type": "code",
   "execution_count": 6,
   "id": "7e7bf625",
   "metadata": {},
   "outputs": [
    {
     "name": "stdout",
     "output_type": "stream",
     "text": [
      "Looking in indexes: https://artifactory.s.o3.ru/artifactory/api/pypi/pypi-virtual/simple, https://pypi.org/simple\n",
      "Collecting transformers\n",
      "  Using cached transformers-4.42.4-py3-none-any.whl.metadata (43 kB)\n",
      "Collecting filelock (from transformers)\n",
      "  Using cached filelock-3.15.4-py3-none-any.whl.metadata (2.9 kB)\n",
      "Collecting huggingface-hub<1.0,>=0.23.2 (from transformers)\n",
      "  Using cached huggingface_hub-0.23.5-py3-none-any.whl.metadata (12 kB)\n",
      "Collecting numpy<2.0,>=1.17 (from transformers)\n",
      "  Using cached numpy-1.26.4-cp310-cp310-manylinux_2_17_x86_64.manylinux2014_x86_64.whl.metadata (61 kB)\n",
      "Collecting packaging>=20.0 (from transformers)\n",
      "  Using cached packaging-24.1-py3-none-any.whl.metadata (3.2 kB)\n",
      "Collecting pyyaml>=5.1 (from transformers)\n",
      "  Using cached PyYAML-6.0.1-cp310-cp310-manylinux_2_17_x86_64.manylinux2014_x86_64.whl.metadata (2.1 kB)\n",
      "Collecting regex!=2019.12.17 (from transformers)\n",
      "  Using cached regex-2024.5.15-cp310-cp310-manylinux_2_17_x86_64.manylinux2014_x86_64.whl.metadata (40 kB)\n",
      "Collecting requests (from transformers)\n",
      "  Using cached requests-2.32.3-py3-none-any.whl.metadata (4.6 kB)\n",
      "Collecting safetensors>=0.4.1 (from transformers)\n",
      "  Using cached safetensors-0.4.3-cp310-cp310-manylinux_2_17_x86_64.manylinux2014_x86_64.whl.metadata (3.8 kB)\n",
      "Collecting tokenizers<0.20,>=0.19 (from transformers)\n",
      "  Using cached tokenizers-0.19.1-cp310-cp310-manylinux_2_17_x86_64.manylinux2014_x86_64.whl.metadata (6.7 kB)\n",
      "Collecting tqdm>=4.27 (from transformers)\n",
      "  Using cached tqdm-4.66.4-py3-none-any.whl.metadata (57 kB)\n",
      "Collecting fsspec>=2023.5.0 (from huggingface-hub<1.0,>=0.23.2->transformers)\n",
      "  Using cached fsspec-2024.6.1-py3-none-any.whl.metadata (11 kB)\n",
      "Collecting typing-extensions>=3.7.4.3 (from huggingface-hub<1.0,>=0.23.2->transformers)\n",
      "  Using cached typing_extensions-4.12.2-py3-none-any.whl.metadata (3.0 kB)\n",
      "Collecting charset-normalizer<4,>=2 (from requests->transformers)\n",
      "  Using cached charset_normalizer-3.3.2-cp310-cp310-manylinux_2_17_x86_64.manylinux2014_x86_64.whl.metadata (33 kB)\n",
      "Collecting idna<4,>=2.5 (from requests->transformers)\n",
      "  Using cached idna-3.7-py3-none-any.whl.metadata (9.9 kB)\n",
      "Collecting urllib3<3,>=1.21.1 (from requests->transformers)\n",
      "  Using cached urllib3-2.2.2-py3-none-any.whl.metadata (6.4 kB)\n",
      "Collecting certifi>=2017.4.17 (from requests->transformers)\n",
      "  Using cached certifi-2024.7.4-py3-none-any.whl.metadata (2.2 kB)\n",
      "Using cached transformers-4.42.4-py3-none-any.whl (9.3 MB)\n",
      "Using cached huggingface_hub-0.23.5-py3-none-any.whl (402 kB)\n",
      "Using cached numpy-1.26.4-cp310-cp310-manylinux_2_17_x86_64.manylinux2014_x86_64.whl (18.2 MB)\n",
      "Using cached packaging-24.1-py3-none-any.whl (53 kB)\n",
      "Using cached PyYAML-6.0.1-cp310-cp310-manylinux_2_17_x86_64.manylinux2014_x86_64.whl (705 kB)\n",
      "Using cached regex-2024.5.15-cp310-cp310-manylinux_2_17_x86_64.manylinux2014_x86_64.whl (775 kB)\n",
      "Using cached safetensors-0.4.3-cp310-cp310-manylinux_2_17_x86_64.manylinux2014_x86_64.whl (1.2 MB)\n",
      "Using cached tokenizers-0.19.1-cp310-cp310-manylinux_2_17_x86_64.manylinux2014_x86_64.whl (3.6 MB)\n",
      "Using cached tqdm-4.66.4-py3-none-any.whl (78 kB)\n",
      "Using cached filelock-3.15.4-py3-none-any.whl (16 kB)\n",
      "Using cached requests-2.32.3-py3-none-any.whl (64 kB)\n",
      "Using cached certifi-2024.7.4-py3-none-any.whl (162 kB)\n",
      "Using cached charset_normalizer-3.3.2-cp310-cp310-manylinux_2_17_x86_64.manylinux2014_x86_64.whl (142 kB)\n",
      "Using cached fsspec-2024.6.1-py3-none-any.whl (177 kB)\n",
      "Using cached idna-3.7-py3-none-any.whl (66 kB)\n",
      "Using cached typing_extensions-4.12.2-py3-none-any.whl (37 kB)\n",
      "Using cached urllib3-2.2.2-py3-none-any.whl (121 kB)\n",
      "Installing collected packages: urllib3, typing-extensions, tqdm, safetensors, regex, pyyaml, packaging, numpy, idna, fsspec, filelock, charset-normalizer, certifi, requests, huggingface-hub, tokenizers, transformers\n",
      "Successfully installed certifi-2024.7.4 charset-normalizer-3.3.2 filelock-3.15.4 fsspec-2024.6.1 huggingface-hub-0.23.5 idna-3.7 numpy-1.26.4 packaging-24.1 pyyaml-6.0.1 regex-2024.5.15 requests-2.32.3 safetensors-0.4.3 tokenizers-0.19.1 tqdm-4.66.4 transformers-4.42.4 typing-extensions-4.12.2 urllib3-2.2.2\n",
      "\n"
     ]
    },
    {
     "data": {
      "text/plain": [
       "0"
      ]
     },
     "execution_count": 6,
     "metadata": {},
     "output_type": "execute_result"
    }
   ],
   "source": [
    "# Устанавливаем пакеты в pip\n",
    "os.system('conda run -n demo_env pip install transformers')"
   ]
  },
  {
   "cell_type": "code",
   "execution_count": 7,
   "id": "6ba63dfb",
   "metadata": {},
   "outputs": [
    {
     "name": "stdout",
     "output_type": "stream",
     "text": [
      "Looking in indexes: https://artifactory.s.o3.ru/artifactory/api/pypi/pypi-virtual/simple, https://pypi.org/simple\n",
      "Collecting demoji\n",
      "  Using cached demoji-1.1.0-py3-none-any.whl.metadata (9.2 kB)\n",
      "Using cached demoji-1.1.0-py3-none-any.whl (42 kB)\n",
      "Installing collected packages: demoji\n",
      "Successfully installed demoji-1.1.0\n",
      "\n"
     ]
    },
    {
     "data": {
      "text/plain": [
       "0"
      ]
     },
     "execution_count": 7,
     "metadata": {},
     "output_type": "execute_result"
    }
   ],
   "source": [
    "# Устанавливаем пакеты в pip\n",
    "os.system('conda run -n demo_env pip install demoji')\n",
    "\n",
    "# И другие пакеты, которые нужны (посмотреть в списке импортов в model.py)"
   ]
  },
  {
   "cell_type": "code",
   "execution_count": null,
   "id": "7acc63d1",
   "metadata": {},
   "outputs": [
    {
     "name": "stdout",
     "output_type": "stream",
     "text": [
      "Collecting packages...\n",
      "Packing environment at '/home/izhdanov/anaconda3/envs/demo_env' to 'comment_approval_env.tar.gz'\n",
      "[########################################] | 100% Completed | 28.2s\n"
     ]
    },
    {
     "data": {
      "text/plain": [
       "0"
      ]
     },
     "execution_count": 8,
     "metadata": {},
     "output_type": "execute_result"
    }
   ],
   "source": [
    "# Делаем конда пак получившейся среды\n",
    "os.system('conda pack -n demo_env -o HSE_seminar1_env.tar.gz')"
   ]
  },
  {
   "cell_type": "code",
   "execution_count": 4,
   "id": "f6a58934",
   "metadata": {},
   "outputs": [
    {
     "name": "stdout",
     "output_type": "stream",
     "text": [
      "\n",
      "Remove all packages in environment /home/izhdanov/anaconda3/envs/demo_env:\n",
      "\n",
      "\n",
      "## Package Plan ##\n",
      "\n",
      "  environment location: /home/izhdanov/anaconda3/envs/demo_env\n",
      "\n",
      "\n",
      "The following packages will be REMOVED:\n",
      "\n",
      "  _libgcc_mutex-0.1-conda_forge\n",
      "  _openmp_mutex-4.5-2_gnu\n",
      "  bzip2-1.0.8-h4bc722e_7\n",
      "  ca-certificates-2024.7.4-hbcca054_0\n",
      "  ld_impl_linux-64-2.40-hf3520f5_7\n",
      "  libffi-3.4.2-h7f98852_5\n",
      "  libgcc-ng-12.4.0-h77fa898_0\n",
      "  libgomp-12.4.0-h77fa898_0\n",
      "  libnsl-2.0.1-hd590300_0\n",
      "  libsqlite-3.46.0-hde9e2c9_0\n",
      "  libstdcxx-ng-12.4.0-hc0a3c3a_0\n",
      "  libuuid-2.38.1-h0b41bf4_0\n",
      "  libxcrypt-4.4.36-hd590300_1\n",
      "  libzlib-1.3.1-h4ab18f5_1\n",
      "  ncurses-6.5-h59595ed_0\n",
      "  openssl-3.3.1-h4ab18f5_1\n",
      "  pip-24.0-pyhd8ed1ab_0\n",
      "  python-3.10.14-hd12c33a_0_cpython\n",
      "  readline-8.2-h8228510_1\n",
      "  setuptools-70.3.0-pyhd8ed1ab_0\n",
      "  tk-8.6.13-noxft_h4845f30_101\n",
      "  tzdata-2024a-h0c530f3_0\n",
      "  wheel-0.43.0-pyhd8ed1ab_1\n",
      "  xz-5.2.6-h166bdaf_0\n",
      "\n",
      "\n",
      "Preparing transaction: ...working... done\n",
      "Verifying transaction: ...working... done\n",
      "Executing transaction: ...working... done\n"
     ]
    },
    {
     "data": {
      "text/plain": [
       "0"
      ]
     },
     "execution_count": 4,
     "metadata": {},
     "output_type": "execute_result"
    }
   ],
   "source": [
    "# Если новая конда-среда не нужна более - её можно удалить\n",
    "# os.system('conda remove -n demo_env --all -y')"
   ]
  }
 ],
 "metadata": {
  "kernelspec": {
   "display_name": "Python 3 (ipykernel)",
   "language": "python",
   "name": "python3"
  },
  "language_info": {
   "codemirror_mode": {
    "name": "ipython",
    "version": 3
   },
   "file_extension": ".py",
   "mimetype": "text/x-python",
   "name": "python",
   "nbconvert_exporter": "python",
   "pygments_lexer": "ipython3",
   "version": "3.11.5"
  }
 },
 "nbformat": 4,
 "nbformat_minor": 5
}
