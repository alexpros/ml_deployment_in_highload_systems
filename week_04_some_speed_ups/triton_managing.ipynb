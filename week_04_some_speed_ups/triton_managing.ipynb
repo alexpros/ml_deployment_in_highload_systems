{
 "cells": [
  {
   "cell_type": "code",
   "execution_count": null,
   "metadata": {},
   "outputs": [],
   "source": [
    "!pip install tritonclient"
   ]
  },
  {
   "cell_type": "code",
   "execution_count": null,
   "metadata": {},
   "outputs": [],
   "source": [
    "!pip install -U grpcio"
   ]
  },
  {
   "cell_type": "code",
   "execution_count": 11,
   "metadata": {},
   "outputs": [],
   "source": [
    "import tritonclient.grpc as grpcclient\n",
    "import numpy as np\n",
    "\n",
    "# Create a client\n",
    "client = grpcclient.InferenceServerClient(url=\"localhost:13331\")"
   ]
  },
  {
   "cell_type": "code",
   "execution_count": 13,
   "metadata": {},
   "outputs": [
    {
     "data": {
      "text/plain": [
       "models {\n",
       "  name: \"bert_onnx_model\"\n",
       "}\n",
       "models {\n",
       "  name: \"bert_onnx_model_fp16\"\n",
       "}\n",
       "models {\n",
       "  name: \"dynamic_batching\"\n",
       "}\n",
       "models {\n",
       "  name: \"external_batching\"\n",
       "}\n",
       "models {\n",
       "  name: \"multi_instance\"\n",
       "}\n",
       "models {\n",
       "  name: \"onnx_model\"\n",
       "}\n",
       "models {\n",
       "  name: \"python_model\"\n",
       "}\n",
       "models {\n",
       "  name: \"pytorch_model\"\n",
       "}\n",
       "models {\n",
       "  name: \"quantized_model\"\n",
       "}\n",
       "models {\n",
       "  name: \"sequence_batching\"\n",
       "}\n",
       "models {\n",
       "  name: \"tensorrt_model\"\n",
       "}\n",
       "models {\n",
       "  name: \"trtprofile\"\n",
       "}"
      ]
     },
     "execution_count": 13,
     "metadata": {},
     "output_type": "execute_result"
    }
   ],
   "source": [
    "client.get_model_repository_index()"
   ]
  },
  {
   "cell_type": "code",
   "execution_count": 14,
   "metadata": {},
   "outputs": [],
   "source": [
    "client.load_model(\"pytorch_model\")"
   ]
  },
  {
   "cell_type": "code",
   "execution_count": 9,
   "metadata": {},
   "outputs": [],
   "source": [
    "client.load_model(\"onnx_model\")"
   ]
  },
  {
   "cell_type": "code",
   "execution_count": 38,
   "metadata": {},
   "outputs": [],
   "source": [
    "client.load_model(\"dynamic_batching\")"
   ]
  },
  {
   "cell_type": "code",
   "execution_count": 39,
   "metadata": {},
   "outputs": [],
   "source": [
    "client.load_model(\"multi_instance\")"
   ]
  },
  {
   "cell_type": "code",
   "execution_count": 44,
   "metadata": {},
   "outputs": [],
   "source": [
    "client.load_model(\"quantized_model\")"
   ]
  },
  {
   "cell_type": "code",
   "execution_count": 48,
   "metadata": {},
   "outputs": [],
   "source": [
    "# only GPU supports TensorRT\n",
    "client.load_model(\"tensorrt_model\")"
   ]
  },
  {
   "cell_type": "code",
   "execution_count": 3,
   "metadata": {},
   "outputs": [],
   "source": [
    "client.load_model(\"bert_onnx_model\")"
   ]
  },
  {
   "cell_type": "code",
   "execution_count": 6,
   "metadata": {},
   "outputs": [],
   "source": [
    "client.load_model(\"bert_onnx_model_fp16\")"
   ]
  },
  {
   "cell_type": "code",
   "execution_count": null,
   "metadata": {},
   "outputs": [],
   "source": [
    "client.load_model(\"bert_faster_transformer\")"
   ]
  }
 ],
 "metadata": {
  "kernelspec": {
   "display_name": "Python 3",
   "language": "python",
   "name": "python3"
  },
  "language_info": {
   "codemirror_mode": {
    "name": "ipython",
    "version": 3
   },
   "file_extension": ".py",
   "mimetype": "text/x-python",
   "name": "python",
   "nbconvert_exporter": "python",
   "pygments_lexer": "ipython3",
   "version": "3.9.6"
  }
 },
 "nbformat": 4,
 "nbformat_minor": 2
}
